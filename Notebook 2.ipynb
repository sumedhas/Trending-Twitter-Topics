{
 "cells": [
  {
   "cell_type": "markdown",
   "metadata": {},
   "source": [
    "Problem 2:  Summarizing trending topics about a location (place)\n",
    "\n",
    "State the location in variable \"loc\" defined in Step 3 and run the code."
   ]
  },
  {
   "cell_type": "markdown",
   "metadata": {},
   "source": [
    "Step 1 : Loading required R librariesing #Loading required R libraries:"
   ]
  },
  {
   "cell_type": "code",
   "execution_count": 16,
   "metadata": {
    "collapsed": false
   },
   "outputs": [],
   "source": [
    "library(twitteR)\n",
    "library(ggmap)"
   ]
  },
  {
   "cell_type": "markdown",
   "metadata": {},
   "source": [
    "Step 2 : Authenticating Twitter API credentials:"
   ]
  },
  {
   "cell_type": "code",
   "execution_count": 17,
   "metadata": {
    "collapsed": false
   },
   "outputs": [
    {
     "name": "stdout",
     "output_type": "stream",
     "text": [
      "[1] \"Using direct authentication\"\n"
     ]
    }
   ],
   "source": [
    "setup_twitter_oauth(\"vNx3ye5fxu2F1NcDSz4epr79G\", \"xuvjyUxug2LvHMhYQtJKuBIZnHBOup0reFabiapemF19Iz7eMC\", \"477695863-gHb0Ous3p6ReyeR1AtgQPhpjUTUcyukaSveAcoai\",\"es2qBjXIfFajRVa0yOeInaJ4PkoUbnWVZap05u3DsvU8X\")"
   ]
  },
  {
   "cell_type": "markdown",
   "metadata": {},
   "source": [
    "Step 3 : Getting location co-ordinates using geocode:"
   ]
  },
  {
   "cell_type": "code",
   "execution_count": 68,
   "metadata": {
    "collapsed": false
   },
   "outputs": [
    {
     "name": "stderr",
     "output_type": "stream",
     "text": [
      "Information from URL : http://maps.googleapis.com/maps/api/geocode/json?address=Mumbai,%20India&sensor=false\n"
     ]
    },
    {
     "data": {
      "text/html": [
       "<table>\n",
       "<thead><tr><th scope=col>lon</th><th scope=col>lat</th></tr></thead>\n",
       "<tbody>\n",
       "\t<tr><td>72.87766</td><td>19.07598</td></tr>\n",
       "</tbody>\n",
       "</table>\n"
      ],
      "text/latex": [
       "\\begin{tabular}{r|ll}\n",
       " lon & lat\\\\\n",
       "\\hline\n",
       "\t 72.87766 & 19.07598\\\\\n",
       "\\end{tabular}\n"
      ],
      "text/markdown": [
       "\n",
       "lon | lat | \n",
       "|---|\n",
       "| 72.87766 | 19.07598 | \n",
       "\n",
       "\n"
      ],
      "text/plain": [
       "  lon      lat     \n",
       "1 72.87766 19.07598"
      ]
     },
     "metadata": {},
     "output_type": "display_data"
    }
   ],
   "source": [
    "loc <- \"Mumbai, India\"\n",
    "location <- geocode(loc)\n",
    "location"
   ]
  },
  {
   "cell_type": "markdown",
   "metadata": {},
   "source": [
    "Step 4 : Getting woeid and list of trends for it using getTrends:"
   ]
  },
  {
   "cell_type": "code",
   "execution_count": 69,
   "metadata": {
    "collapsed": false
   },
   "outputs": [],
   "source": [
    "#a_trends <- availableTrendLocations(location)\n",
    "#trends <- getTrends(a_trends$woeid)\n",
    "a_trends <- closestTrendLocations(location$lat,location$lon)\n",
    "trends <- getTrends(a_trends$woeid,\"daily\")"
   ]
  },
  {
   "cell_type": "markdown",
   "metadata": {},
   "source": [
    "Step 5 : Getting top5 trends of the particular location:"
   ]
  },
  {
   "cell_type": "code",
   "execution_count": 70,
   "metadata": {
    "collapsed": false
   },
   "outputs": [],
   "source": [
    "top5 <- head(trends, 10)"
   ]
  },
  {
   "cell_type": "markdown",
   "metadata": {},
   "source": [
    "Step 6 : Summarizing top 5 trends"
   ]
  },
  {
   "cell_type": "code",
   "execution_count": 71,
   "metadata": {
    "collapsed": false
   },
   "outputs": [],
   "source": [
    "final_str <- capture.output(cat(top5$name, sep=\" ,\")) "
   ]
  },
  {
   "cell_type": "markdown",
   "metadata": {},
   "source": [
    "Step 7 : Printing top 5 trends"
   ]
  },
  {
   "cell_type": "code",
   "execution_count": 72,
   "metadata": {
    "collapsed": false
   },
   "outputs": [
    {
     "name": "stdout",
     "output_type": "stream",
     "text": [
      "Top 10 trends in Mumbai, India are :  \n",
      " #JioFilmfareAwards ,#WOLvCHE ,#FACup ,#ILoveRisingStar ,#BJP4सुशासन ,Marina Beach ,तमिलनाडु विधानसभा ,JOLLY FIRST HIT OF 2017 ,#HBLPSL ,#floortest"
     ]
    }
   ],
   "source": [
    "cat(\"Top 10 trends in\", loc, \"are : \",\"\\n\",final_str)"
   ]
  },
  {
   "cell_type": "code",
   "execution_count": null,
   "metadata": {
    "collapsed": true
   },
   "outputs": [],
   "source": []
  }
 ],
 "metadata": {
  "kernelspec": {
   "display_name": "R",
   "language": "R",
   "name": "ir"
  },
  "language_info": {
   "codemirror_mode": "r",
   "file_extension": ".r",
   "mimetype": "text/x-r-source",
   "name": "R",
   "pygments_lexer": "r",
   "version": "3.3.2"
  }
 },
 "nbformat": 4,
 "nbformat_minor": 2
}
